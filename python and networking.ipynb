{
 "cells": [
  {
   "cell_type": "code",
   "execution_count": 1,
   "id": "3b78d1ce",
   "metadata": {},
   "outputs": [
    {
     "name": "stdout",
     "output_type": "stream",
     "text": [
      "the name of the host is mukuna while its IP address is 192.168.56.1\n",
      "53  >>  domain\n",
      "80  >>  http\n",
      "443  >>  https\n"
     ]
    }
   ],
   "source": [
    "import socket\n",
    "\n",
    "machine = socket.gethostname()\n",
    "IP_address = socket.gethostbyname(machine)\n",
    "\n",
    "print(f'the name of the host is {machine} while its IP address is {IP_address}')\n",
    "\n",
    "def find_service():\n",
    "    protocol_name = 'tcp'\n",
    "\n",
    "    for port in [53,80,443]:\n",
    "        print(port,' >> ', socket.getservbyport(port, protocol_name) )\n",
    "\n",
    "find_service()"
   ]
  },
  {
   "cell_type": "code",
   "execution_count": null,
   "id": "1d404afd",
   "metadata": {},
   "outputs": [],
   "source": []
  }
 ],
 "metadata": {
  "kernelspec": {
   "display_name": "Python 3",
   "language": "python",
   "name": "python3"
  },
  "language_info": {
   "codemirror_mode": {
    "name": "ipython",
    "version": 3
   },
   "file_extension": ".py",
   "mimetype": "text/x-python",
   "name": "python",
   "nbconvert_exporter": "python",
   "pygments_lexer": "ipython3",
   "version": "3.8.8"
  }
 },
 "nbformat": 4,
 "nbformat_minor": 5
}
